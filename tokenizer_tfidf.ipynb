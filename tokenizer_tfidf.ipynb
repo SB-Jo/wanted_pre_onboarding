{
  "nbformat": 4,
  "nbformat_minor": 0,
  "metadata": {
    "colab": {
      "name": "tokenizer_tfidf.ipynb",
      "provenance": []
    },
    "kernelspec": {
      "name": "python3",
      "display_name": "Python 3"
    },
    "language_info": {
      "name": "python"
    }
  },
  "cells": [
    {
      "cell_type": "markdown",
      "source": [
        "##문제1. Tokenizer"
      ],
      "metadata": {
        "id": "db4v64zwNw4G"
      }
    },
    {
      "cell_type": "code",
      "execution_count": 3,
      "metadata": {
        "id": "HiJpTquSNUpD"
      },
      "outputs": [],
      "source": [
        "import re\n",
        "word_dict = {}\n",
        "\n",
        "class Tokenizer():\n",
        "  def __init__(self):\n",
        "    self.word_dict = {'oov': 0}\n",
        "    self.fit_checker = False\n",
        "\n",
        "  def preprocessing(self, sequences):\n",
        "    result = []\n",
        "\n",
        "    for item in sequences:\n",
        "      item = item.strip().lower()\n",
        "      item = re.sub(\"[^a-z0-9 ]\", \"\", item)\n",
        "      tokens = item.split(' ')\n",
        "      result.append(tokens)\n",
        "    return result\n",
        "\n",
        "  def fit(self, sequences):\n",
        "    self.fit_checker = False\n",
        "\n",
        "    tokens = self.preprocessing(sequences)\n",
        "    for seq in tokens:\n",
        "      for item in seq:\n",
        "        if item not in self.word_dict.keys():\n",
        "          self.word_dict[item] = len(self.word_dict.keys())\n",
        "    self.fit_checker = True\n",
        "\n",
        "  def transform(self, sequences):\n",
        "    result = []\n",
        "    tokens = self.preprocessing(sequences)\n",
        "\n",
        "    if self.fit_checker:\n",
        "      for seq in tokens:\n",
        "        temp_seq = []\n",
        "        for item in seq:\n",
        "          if item in self.word_dict.keys():\n",
        "            temp_seq.append(self.word_dict[item])\n",
        "          else:\n",
        "            temp_seq.append(self.word_dict['oov'])\n",
        "        result.append(temp_seq)\n",
        "      return result\n",
        "    else:\n",
        "      raise Exception(\"Tokenizer instance is not fitted yet.\")\n",
        "      \n",
        "  def fit_transform(self, sequences):\n",
        "    self.fit(sequences)\n",
        "    result = self.transform(sequences)\n",
        "    return result"
      ]
    },
    {
      "cell_type": "code",
      "source": [
        "sentences= ['I love apple',\n",
        "            'I love orange',\n",
        "            'I love coffee',\n",
        "            'coffe taste good',\n",
        "            'I hate nothing']\n",
        "tokenizer = Tokenizer()\n",
        "result = tokenizer.fit_transform(sentences)\n",
        "print(result[0])"
      ],
      "metadata": {
        "colab": {
          "base_uri": "https://localhost:8080/"
        },
        "id": "cTvSd-_oN6xM",
        "outputId": "15717ee4-6aef-4311-ba4f-e34ae9152c41"
      },
      "execution_count": 4,
      "outputs": [
        {
          "output_type": "stream",
          "name": "stdout",
          "text": [
            "[1, 2, 3]\n"
          ]
        }
      ]
    },
    {
      "cell_type": "markdown",
      "source": [
        "## 문제2. tf-idf"
      ],
      "metadata": {
        "id": "ynbA2WRHN1wv"
      }
    },
    {
      "cell_type": "code",
      "source": [
        "import math\n",
        "\n",
        "class TfidfVectorizer:\n",
        "  def __init__(self, tokenizer):\n",
        "    self.tokenizer = tokenizer\n",
        "    self.fit_checker = False\n",
        "  \n",
        "  def fit(self, sequences):\n",
        "    tokenized = self.tokenizer.fit_transform(sequences)\n",
        "    # idf_matrix 생성\n",
        "    self.idf_matrix = [0] * len(self.tokenizer.word_dict)\n",
        "\n",
        "    for tokenized_sentence in tokenized:\n",
        "      for token_idx in self.tokenizer.word_dict.values():\n",
        "        if token_idx in tokenized_sentence:\n",
        "          self.idf_matrix[token_idx] += 1\n",
        "    self.idf_matrix = [math.log(len(sequences)/(df+1)) for df in self.idf_matrix]\n",
        "    self.fit_checker = True\n",
        "    \n",
        "  def transform(self, sequences):\n",
        "    if self.fit_checker:\n",
        "      tokenized = self.tokenizer.transform(sequences)\n",
        "      self.tf_matrix = []\n",
        "\n",
        "      for tokenized_sentence in tokenized:\n",
        "        temp_list = []\n",
        "        for token_idx in self.tokenizer.word_dict.values():\n",
        "          temp_count = tokenized_sentence.count(token_idx)\n",
        "          temp_list.append(temp_count)\n",
        "        self.tf_matrix.append(temp_list)\n",
        "\n",
        "      # tf-idf 연산\n",
        "      self.tfidf_matrix = []\n",
        "      for list_tf in self.tf_matrix:\n",
        "        self.tfidf_matrix.append([value_tf*value_idf for value_tf, value_idf in zip(list_tf, self.idf_matrix)])\n",
        "      return self.tfidf_matrix\n",
        "    else:\n",
        "      raise Exception(\"TfidfVectorizer instance is not fitted yet.\")\n",
        "\n",
        "  def fit_transform(self, sequences):\n",
        "    self.fit(sequences)\n",
        "    return self.transform(sequences)"
      ],
      "metadata": {
        "id": "kDQlHPoVN1Od"
      },
      "execution_count": 5,
      "outputs": []
    },
    {
      "cell_type": "code",
      "source": [
        "sentences= ['I love apple',\n",
        "            'I love orange',\n",
        "            'I love coffee',\n",
        "            'coffe taste good',\n",
        "            'I hate nothing']\n",
        "\n",
        "tokenizer = Tokenizer()\n",
        "tfidf = TfidfVectorizer(tokenizer)\n",
        "tfidf_result = tfidf.fit_transform(sentences)\n",
        "print(tfidf_result[0])"
      ],
      "metadata": {
        "colab": {
          "base_uri": "https://localhost:8080/"
        },
        "id": "-5ki-RmJOZpv",
        "outputId": "a4484532-55dc-42f7-9528-0c4d104c4a99"
      },
      "execution_count": 6,
      "outputs": [
        {
          "output_type": "stream",
          "name": "stdout",
          "text": [
            "[0.0, 0.0, 0.22314355131420976, 0.9162907318741551, 0.0, 0.0, 0.0, 0.0, 0.0, 0.0, 0.0]\n"
          ]
        }
      ]
    }
  ]
}