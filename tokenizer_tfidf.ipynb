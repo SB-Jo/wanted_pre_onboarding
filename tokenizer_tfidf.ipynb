{
  "nbformat": 4,
  "nbformat_minor": 0,
  "metadata": {
    "colab": {
      "name": "tokenizer_tfidf.ipynb",
      "provenance": [],
      "collapsed_sections": []
    },
    "kernelspec": {
      "name": "python3",
      "display_name": "Python 3"
    },
    "language_info": {
      "name": "python"
    }
  },
  "cells": [
    {
      "cell_type": "markdown",
      "source": [
        "##문제1. Tokenizer"
      ],
      "metadata": {
        "id": "YI1T2VgnYp1Y"
      }
    },
    {
      "cell_type": "code",
      "source": [
        "import re\n",
        "word_dict = {}\n",
        "\n",
        "class Tokenizer():\n",
        "  def __init__(self):\n",
        "    self.word_dict = {'oov': 0}\n",
        "    self.fit_checker = False\n",
        "\n",
        "  def preprocessing(self, sequences):\n",
        "    sequences_processed = []\n",
        "\n",
        "    for item in sequences:\n",
        "      item = item.strip().lower()\n",
        "      item = re.sub(\"[^a-z0-9 ]\", \"\", item)\n",
        "      tokens = item.split(' ')\n",
        "      sequences_processed.append(tokens)\n",
        "    return sequences_processed\n",
        "\n",
        "  def fit(self, sequences):\n",
        "    self.fit_checker = False\n",
        "\n",
        "    tokens = self.preprocessing(sequences)\n",
        "    for seq in tokens:\n",
        "      for item in seq:\n",
        "        if item not in self.word_dict.keys():\n",
        "          self.word_dict[item] = len(self.word_dict.keys())\n",
        "    self.fit_checker = True\n",
        "\n",
        "  def transform(self, sequences):\n",
        "    result_sequences = []\n",
        "    tokens = self.preprocessing(sequences)\n",
        "\n",
        "    if self.fit_checker:\n",
        "      for seq in tokens:\n",
        "        temp_seq = []\n",
        "        for item in seq:\n",
        "          if item in self.word_dict.keys():\n",
        "            temp_seq.append(self.word_dict[item])\n",
        "          else:\n",
        "            temp_seq.append(self.word_dict['oov'])\n",
        "        result_sequences.append(temp_seq)\n",
        "      return result_sequences\n",
        "    else:\n",
        "      raise Exception(\"Tokenizer instance is not fitted yet.\")\n",
        "      \n",
        "  def fit_transform(self, sequences):\n",
        "    self.fit(sequences)\n",
        "    result = self.transform(sequences)\n",
        "    return result"
      ],
      "metadata": {
        "id": "xMuzI64nVhZX"
      },
      "execution_count": 27,
      "outputs": []
    },
    {
      "cell_type": "code",
      "source": [
        "sentences= ['I love apple',\n",
        "            'I love orange',\n",
        "            'I love coffee',\n",
        "            'coffe taste good',\n",
        "            'I hate nothing']\n",
        "tokenizer = Tokenizer()\n",
        "result = tokenizer.fit_transform(sentences)\n",
        "print(result[0])"
      ],
      "metadata": {
        "colab": {
          "base_uri": "https://localhost:8080/"
        },
        "id": "b9Q4-taTeGc0",
        "outputId": "f882db1a-a7a6-46e0-ff50-5db522ea95e3"
      },
      "execution_count": 28,
      "outputs": [
        {
          "output_type": "stream",
          "name": "stdout",
          "text": [
            "[1, 2, 3]\n"
          ]
        }
      ]
    },
    {
      "cell_type": "markdown",
      "source": [
        "##문제2. TfidfVectorizer"
      ],
      "metadata": {
        "id": "Z6p9vdsWYxwY"
      }
    },
    {
      "cell_type": "code",
      "source": [
        "import math\n",
        "\n",
        "class TfidfVectorizer:\n",
        "  def __init__(self, tokenizer):\n",
        "    self.tokenizer = tokenizer\n",
        "    self.fit_checker = False\n",
        "  \n",
        "  def fit(self, sequences):\n",
        "    tokenized_sentences = self.tokenizer.fit_transform(sequences)\n",
        "    # idf_matrix 생성\n",
        "    self.idf_matrix = [0] * len(self.tokenizer.word_dict)\n",
        "\n",
        "    for tokenized_sentence in tokenized_sentences:\n",
        "      for token_idx in self.tokenizer.word_dict.values():\n",
        "        if token_idx in tokenized_sentence:\n",
        "          self.idf_matrix[token_idx] += 1\n",
        "    self.idf_matrix = [math.log(len(sequences)/(df+1)) for df in self.idf_matrix]\n",
        "    self.fit_checker = True\n",
        "    \n",
        "  def transform(self, sequences):\n",
        "    if self.fit_checker:\n",
        "      tokenized_sentences = self.tokenizer.transform(sequences)\n",
        "      self.tf_matrix = []\n",
        "\n",
        "      for tokenized_sentence in tokenized_sentences:\n",
        "        temp_list = []\n",
        "        for token_idx in self.tokenizer.word_dict.values():\n",
        "          temp_count = tokenized_sentence.count(token_idx)\n",
        "          temp_list.append(temp_count)\n",
        "        self.tf_matrix.append(temp_list)\n",
        "\n",
        "      # tf-idf 연산\n",
        "      self.tfidf_matrix = []\n",
        "      for list_tf in self.tf_matrix:\n",
        "        self.tfidf_matrix.append([value_tf*value_idf for value_tf, value_idf in zip(list_tf, self.idf_matrix)])\n",
        "      return self.tfidf_matrix\n",
        "    else:\n",
        "      raise Exception(\"TfidfVectorizer instance is not fitted yet.\")\n",
        "\n",
        "  def fit_transform(self, sequences):\n",
        "    self.fit(sequences)\n",
        "    return self.transform(sequences)"
      ],
      "metadata": {
        "id": "Tt85PkI5XrMC"
      },
      "execution_count": 30,
      "outputs": []
    },
    {
      "cell_type": "code",
      "source": [
        "sentences= ['I love apple',\n",
        "            'I love orange',\n",
        "            'I love coffee',\n",
        "            'coffe taste good',\n",
        "            'I hate nothing']\n",
        "\n",
        "tokenizer = Tokenizer()\n",
        "tfidf = TfidfVectorizer(tokenizer)\n",
        "tfidf_result = tfidf.fit_transform(sentences)\n",
        "print(tfidf_result[0])"
      ],
      "metadata": {
        "colab": {
          "base_uri": "https://localhost:8080/"
        },
        "id": "_-wmMHS6Y7Q4",
        "outputId": "47c44f40-82b8-452f-d13a-803f02fbf9d3"
      },
      "execution_count": 31,
      "outputs": [
        {
          "output_type": "stream",
          "name": "stdout",
          "text": [
            "[0.0, 0.0, 0.22314355131420976, 0.9162907318741551, 0.0, 0.0, 0.0, 0.0, 0.0, 0.0, 0.0]\n"
          ]
        }
      ]
    },
    {
      "cell_type": "code",
      "source": [
        ""
      ],
      "metadata": {
        "id": "H1a_hlmvbVYt"
      },
      "execution_count": null,
      "outputs": []
    }
  ]
}